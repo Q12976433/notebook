{
  "nbformat": 4,
  "nbformat_minor": 0,
  "metadata": {
    "colab": {
      "name": "Untitled0.ipynb",
      "provenance": [],
      "collapsed_sections": [],
      "include_colab_link": true
    },
    "kernelspec": {
      "name": "python3",
      "display_name": "Python 3"
    }
  },
  "cells": [
    {
      "cell_type": "markdown",
      "metadata": {
        "id": "view-in-github",
        "colab_type": "text"
      },
      "source": [
        "<a href=\"https://colab.research.google.com/github/Q12976433/notebook/blob/master/visualization.ipynb\" target=\"_parent\"><img src=\"https://colab.research.google.com/assets/colab-badge.svg\" alt=\"Open In Colab\"/></a>"
      ]
    },
    {
      "cell_type": "code",
      "metadata": {
        "id": "A7p5X5iIf2Ug",
        "colab_type": "code",
        "outputId": "e06bec95-b40c-47a5-fa29-4c37ebf2f8a9",
        "colab": {
          "base_uri": "https://localhost:8080/",
          "height": 514
        }
      },
      "source": [
        "!pip uninstall pyecharts\n",
        "!pip install pyecharts==0.5.11"
      ],
      "execution_count": 4,
      "outputs": [
        {
          "output_type": "stream",
          "text": [
            "Uninstalling pyecharts-0.5.11:\n",
            "  Would remove:\n",
            "    /usr/local/lib/python3.6/dist-packages/pyecharts-0.5.11.dist-info/*\n",
            "    /usr/local/lib/python3.6/dist-packages/pyecharts/*\n",
            "Proceed (y/n)? y\n",
            "  Successfully uninstalled pyecharts-0.5.11\n",
            "Collecting pyecharts==0.5.11\n",
            "  Using cached https://files.pythonhosted.org/packages/52/b8/e46a41c44176cd247cb1fd437e38e179ea604de28c91755c30be1046772c/pyecharts-0.5.11-py2.py3-none-any.whl\n",
            "Requirement already satisfied: jinja2 in /usr/local/lib/python3.6/dist-packages (from pyecharts==0.5.11) (2.10.3)\n",
            "Requirement already satisfied: lml==0.0.2 in /usr/local/lib/python3.6/dist-packages (from pyecharts==0.5.11) (0.0.2)\n",
            "Requirement already satisfied: jupyter-echarts-pypkg==0.1.2 in /usr/local/lib/python3.6/dist-packages (from pyecharts==0.5.11) (0.1.2)\n",
            "Requirement already satisfied: pyecharts-javascripthon==0.0.6 in /usr/local/lib/python3.6/dist-packages (from pyecharts==0.5.11) (0.0.6)\n",
            "Requirement already satisfied: future in /usr/local/lib/python3.6/dist-packages (from pyecharts==0.5.11) (0.16.0)\n",
            "Requirement already satisfied: pillow in /usr/local/lib/python3.6/dist-packages (from pyecharts==0.5.11) (4.3.0)\n",
            "Requirement already satisfied: MarkupSafe>=0.23 in /usr/local/lib/python3.6/dist-packages (from jinja2->pyecharts==0.5.11) (1.1.1)\n",
            "Requirement already satisfied: pyecharts-jupyter-installer==0.0.3 in /usr/local/lib/python3.6/dist-packages (from jupyter-echarts-pypkg==0.1.2->pyecharts==0.5.11) (0.0.3)\n",
            "Requirement already satisfied: javascripthon>=0.10; python_version > \"3.4\" in /usr/local/lib/python3.6/dist-packages (from pyecharts-javascripthon==0.0.6->pyecharts==0.5.11) (0.10)\n",
            "Requirement already satisfied: olefile in /usr/local/lib/python3.6/dist-packages (from pillow->pyecharts==0.5.11) (0.46)\n",
            "Requirement already satisfied: macropy3==1.1.0b2 in /usr/local/lib/python3.6/dist-packages (from javascripthon>=0.10; python_version > \"3.4\"->pyecharts-javascripthon==0.0.6->pyecharts==0.5.11) (1.1.0b2)\n",
            "Requirement already satisfied: setuptools in /usr/local/lib/python3.6/dist-packages (from javascripthon>=0.10; python_version > \"3.4\"->pyecharts-javascripthon==0.0.6->pyecharts==0.5.11) (41.2.0)\n",
            "Requirement already satisfied: dukpy in /usr/local/lib/python3.6/dist-packages (from javascripthon>=0.10; python_version > \"3.4\"->pyecharts-javascripthon==0.0.6->pyecharts==0.5.11) (0.2.2)\n",
            "Installing collected packages: pyecharts\n",
            "Successfully installed pyecharts-0.5.11\n"
          ],
          "name": "stdout"
        },
        {
          "output_type": "display_data",
          "data": {
            "application/vnd.colab-display-data+json": {
              "pip_warning": {
                "packages": [
                  "pyecharts"
                ]
              }
            }
          },
          "metadata": {
            "tags": []
          }
        }
      ]
    },
    {
      "cell_type": "code",
      "metadata": {
        "id": "mzHRroB3jT7p",
        "colab_type": "code",
        "outputId": "1beb6c48-5933-4661-c0f3-ca0af93838f3",
        "colab": {
          "base_uri": "https://localhost:8080/",
          "height": 483
        }
      },
      "source": [
        "!pip install pyecharts_snapshot\n",
        "from pyecharts import Graph,Style\n",
        "#from pyecharts.charts import Style"
      ],
      "execution_count": 5,
      "outputs": [
        {
          "output_type": "stream",
          "text": [
            "Collecting pyecharts_snapshot\n",
            "  Downloading https://files.pythonhosted.org/packages/85/e8/f0a14cc92d89d43e52efb48bca5053c24b53e06e93b43579071476ed0cc6/pyecharts_snapshot-0.2.0-py2.py3-none-any.whl\n",
            "Collecting pyppeteer>=0.0.25 (from pyecharts_snapshot)\n",
            "\u001b[?25l  Downloading https://files.pythonhosted.org/packages/b0/16/a5e8d617994cac605f972523bb25f12e3ff9c30baee29b4a9c50467229d9/pyppeteer-0.0.25.tar.gz (1.2MB)\n",
            "\u001b[K     |████████████████████████████████| 1.2MB 6.7MB/s \n",
            "\u001b[?25hRequirement already satisfied: pillow in /usr/local/lib/python3.6/dist-packages (from pyecharts_snapshot) (4.3.0)\n",
            "Collecting pyee (from pyppeteer>=0.0.25->pyecharts_snapshot)\n",
            "  Downloading https://files.pythonhosted.org/packages/ad/d8/5608d571ffad3d7de0192b0b3099fe3f38d87c0817ebff3cee19264f0bc2/pyee-6.0.0-py2.py3-none-any.whl\n",
            "Collecting websockets (from pyppeteer>=0.0.25->pyecharts_snapshot)\n",
            "\u001b[?25l  Downloading https://files.pythonhosted.org/packages/f0/4b/ad228451b1c071c5c52616b7d4298ebcfcac5ae8515ede959db19e4cd56d/websockets-8.0.2-cp36-cp36m-manylinux1_x86_64.whl (72kB)\n",
            "\u001b[K     |████████████████████████████████| 81kB 27.8MB/s \n",
            "\u001b[?25hCollecting appdirs (from pyppeteer>=0.0.25->pyecharts_snapshot)\n",
            "  Downloading https://files.pythonhosted.org/packages/56/eb/810e700ed1349edde4cbdc1b2a21e28cdf115f9faf263f6bbf8447c1abf3/appdirs-1.4.3-py2.py3-none-any.whl\n",
            "Requirement already satisfied: urllib3 in /usr/local/lib/python3.6/dist-packages (from pyppeteer>=0.0.25->pyecharts_snapshot) (1.24.3)\n",
            "Requirement already satisfied: tqdm in /usr/local/lib/python3.6/dist-packages (from pyppeteer>=0.0.25->pyecharts_snapshot) (4.28.1)\n",
            "Requirement already satisfied: olefile in /usr/local/lib/python3.6/dist-packages (from pillow->pyecharts_snapshot) (0.46)\n",
            "Building wheels for collected packages: pyppeteer\n",
            "  Building wheel for pyppeteer (setup.py) ... \u001b[?25l\u001b[?25hdone\n",
            "  Created wheel for pyppeteer: filename=pyppeteer-0.0.25-cp36-none-any.whl size=78362 sha256=971def2631c5a1501274cf28e6d5e9514ca84db63281c07ecf18d0f925bde9fc\n",
            "  Stored in directory: /root/.cache/pip/wheels/34/e0/5d/070e22eceecf7ecd5fa4b86bbc18c1c7d0b90e02e9b57f35eb\n",
            "Successfully built pyppeteer\n",
            "Installing collected packages: pyee, websockets, appdirs, pyppeteer, pyecharts-snapshot\n",
            "Successfully installed appdirs-1.4.3 pyecharts-snapshot-0.2.0 pyee-6.0.0 pyppeteer-0.0.25 websockets-8.0.2\n"
          ],
          "name": "stdout"
        }
      ]
    },
    {
      "cell_type": "code",
      "metadata": {
        "id": "kD7RdAX7bmWM",
        "colab_type": "code",
        "colab": {}
      },
      "source": [
        "style = Style(title_top='#fff', title_pos='left', width=1000)"
      ],
      "execution_count": 0,
      "outputs": []
    },
    {
      "cell_type": "code",
      "metadata": {
        "id": "IWZObRnEUCub",
        "colab_type": "code",
        "colab": {}
      },
      "source": [
        "nodes = [{\"name\": \"James\", \"symbolSize\": 40, },\n",
        "         {\"name\": \"David\", \"symbolSize\": 40},\n",
        "         {\"name\": \"George\", \"symbolSize\": 30},\n",
        "         {\"name\": \"Ronald\", \"symbolSize\": 20},\n",
        "         {\"name\": \"John\", \"symbolSize\": 20},\n",
        "         {\"name\": \"Richard\", \"symbolSize\": 20},\n",
        "         {\"name\": \"Daniel\", \"symbolSize\": 10},\n",
        "         {\"name\": \"Kenneth\", \"Symbolize\": 10},\n",
        "         {\"name\": \"Anthony\", \"Symbolize\": 10},\n",
        "         {\"name\": \"Robert\", \"Symbolize\": 10},\n",
        "         {\"name\": \"Charles\", \"Symbolize\": 10},\n",
        "         {\"name\": \"Paul\", \"Symbolize\": 10},\n",
        "         {\"name\": \"Mark\", \"Symbolize\": 10},\n",
        "         {\"name\": \"Kevin\", \"Symbolize\": 10},\n",
        "         {\"name\": \"Edward\", \"Symbolize\": 10},\n",
        "         {\"name\": \"Joseph\", \"Symbolize\": 10},\n",
        "         {\"name\": \"Michael\", \"Symbolize\": 10},\n",
        "         {\"name\": \"Jason\", \"Symbolize\": 10}\n",
        "         ]\n"
      ],
      "execution_count": 0,
      "outputs": []
    },
    {
      "cell_type": "code",
      "metadata": {
        "id": "DXfghx8JUEdv",
        "colab_type": "code",
        "colab": {}
      },
      "source": [
        "links = [] \n",
        "links.append({\"source\":\"James\", \"target\":\"David\", \"value\":\"1\"}) \n",
        "links.append({\"source\":\"James\", \"target\":\"George\", \"value\":\"1\"}) \n",
        "links.append({\"source\":\"David\", \"target\":\"George\", \"value\":\"1\"}) \n",
        "links.append({\"source\":\"George\", \"target\":\"Ronald\", \"value\":\"2\"})\n",
        "links.append({\"source\":\"George\", \"target\":\"John\", \"value\":\"2\"})\n",
        "links.append({\"source\":\"George\", \"target\":\"Richard\", \"value\":\"3\"})\n",
        "links.append({\"source\":\"Ronald\", \"target\":\"Daniel\", \"value\":\"4\"})\n",
        "links.append({\"source\":\"Ronaldn\", \"target\":\"Kenneth\", \"value\":\"5\"})\n",
        "links.append({\"source\":\"Ronald\", \"target\":\"Anthony\", \"value\":\"5\"}) \n",
        "links.append({\"source\":\"John\", \"target\":\"Robert\", \"value\":\"6\"}) \n",
        "links.append({\"source\":\"John\", \"target\":\"Charles\", \"value\":\"4\"}) \n",
        "links.append({\"source\":\"John\", \"target\":\"Paul\", \"value\":\"5\"})\n",
        "links.append({\"source\":\"John\", \"target\":\"Mark\",\"value\":\"7\"})\n",
        "links.append({\"source\":\"John\", \"target\":\"Kevin\", \"value\":\"4\"})\n",
        "links.append({\"source\":\"John\", \"target\":\"Edward\", \"value\":\"5\"}) \n",
        "links.append({\"source\":\"Richard\", \"target\":\"Joseph\", \"value\":\"5\"})\n",
        "links.append({\"source\":\"Richard\", \"target\":\"Michael\", \"value\":\"3\"}) \n",
        "links.append({\"source\":\"Richard\", \"target\":\"Jason\", \"value\":\"5\"})\n",
        "links.append({\"source\":\"Daniel\", \"target\":\"Kenneth\", \"value\":\"3\"}) \n",
        "links.append({\"source\":\"Daniel\", \"target\":\"Anthony\", \"value\":\"4\"})\n",
        "links.append({\"source\":\"Kenneth\", \"target\":\"Anthony\", \"value\":\"4\"}) \n",
        "links.append({\"source\":\"Robert\", \"target\":\"Charles\", \"value\":\"2\"}) \n",
        "links.append({\"source\":\"Robert\", \"target\":\"Paul\", \"value\":\"4\"}) \n",
        "links.append({\"source\":\"Robert\", \"target\":\"Mark\", \"value\":\"7\"}) \n",
        "links.append({\"source\":\"Robert\", \"target\":\"Kevin\", \"value\":\"2\"})\n",
        "links.append({\"source\":\"Robert\", \"target\":\"Edward\", \"value\":\"4\"}) \n",
        "links.append({\"source\":\"Charles\", \"target\":\"Paul\", \"value\":\"5\"}) \n",
        "links.append({\"source\":\"Charles\", \"target\":\"Mark\", \"value\":\"5\"}) \n",
        "links.append({\"source\":\"Charles\", \"target\":\"Kevin\", \"value\":\"4\"})\n",
        "links.append({\"source\":\"Charles\", \"target\":\"Edward\", \"value\":\"3\"}) \n"
      ],
      "execution_count": 0,
      "outputs": []
    },
    {
      "cell_type": "code",
      "metadata": {
        "id": "EPkqbHGfXv_n",
        "colab_type": "code",
        "colab": {}
      },
      "source": [
        ""
      ],
      "execution_count": 0,
      "outputs": []
    },
    {
      "cell_type": "code",
      "metadata": {
        "id": "qVUbXe6IYS4R",
        "colab_type": "code",
        "colab": {}
      },
      "source": [
        "links.append({\"source\":\"paul\",\"target\":\"Mark\",\"value\":\"3\"})\n",
        "links.append({\"source\":\"Paul\",\"target\":\"Kevin\",\"value\":\"4\"})\n",
        "links.append({\"source\":\"Mark\",\"target\":\"Edward\",\"value\":\"3\"})\n",
        "links.append({\"source\":\"Joseph\",\"target\":\"Michael\",\"value\":\"3\"})\n",
        "links.append({\"source\":\"Joseph\",\"target\":\"Jason\",\"value\":\"4\"})\n",
        "links.append({\"source\":\"Michael\",\"target\":\"Jason\",\"value\":\"5\"})\n",
        "links.append({\"source\":\"Jason\",\"target\":\"Kenneth\",\"value\":\"1\"})\n",
        "links.append({\"source\":\"Michael\",\"target\":\"Daniel\",\"value\":\"2\"})\n",
        "links.append({\"source\":\"Michael\",\"target\":\"Kenneth\",\"value\":\"2\"})\n",
        "links.append({\"source\":\"Michael\",\"target\":\"Anthony\",\"value\":\"3\"})\n",
        "links.append({\"source\":\"Michael\",\"target\":\"Robert\",\"value\":\"2\"})\n",
        "links.append({\"source\":\"Michael\",\"target\":\"Paul\",\"value\":\"2\"})\n",
        "links.append({\"source\":\"Michael\",\"target\":\"Kevin\",\"value\":\"2\"})\n",
        "links.append({\"source\":\"Michael\",\"target\":\"Edward\",\"value\":\"2\"})\n",
        "links.append({\"source\":\"Michael\",\"target\":\"Charles\",\"value\":\"2\"})"
      ],
      "execution_count": 0,
      "outputs": []
    },
    {
      "cell_type": "code",
      "metadata": {
        "id": "YINgR68fYCa-",
        "colab_type": "code",
        "colab": {}
      },
      "source": [
        "graph = Graph(\"Email network\",**style.init_style)\n",
        "graph.add(\n",
        "\"\",\n",
        "nodes,\n",
        "links,\n",
        "is_label_show = True,\n",
        "graph_repulsion=8000,\n",
        "graph_layout = \"force\",\n",
        "label_text_color =None,\n",
        "    \n",
        ")\n",
        "graph.render()\n"
      ],
      "execution_count": 0,
      "outputs": []
    }
  ]
}